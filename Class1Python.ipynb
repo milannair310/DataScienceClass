{
  "nbformat": 4,
  "nbformat_minor": 0,
  "metadata": {
    "colab": {
      "provenance": []
    },
    "kernelspec": {
      "name": "python3",
      "display_name": "Python 3"
    },
    "language_info": {
      "name": "python"
    }
  },
  "cells": [
    {
      "cell_type": "code",
      "execution_count": null,
      "metadata": {
        "colab": {
          "base_uri": "https://localhost:8080/"
        },
        "collapsed": true,
        "id": "-JYhVh8nTWra",
        "outputId": "c7ed2eb3-49c8-44f7-eff0-e5780ea01350"
      },
      "outputs": [
        {
          "output_type": "stream",
          "name": "stdout",
          "text": [
            "Hello\n",
            "<class 'int'>\n",
            "<class 'float'>\n",
            "<class 'str'>\n",
            "<class 'bool'>\n",
            "<class 'complex'>\n",
            "<class 'list'>\n",
            "<class 'tuple'>\n",
            "<class 'dict'>\n",
            "<class 'float'>\n",
            "<class 'complex'> (5+0j)\n",
            "elephant\n",
            "e\n"
          ]
        }
      ],
      "source": [
        "print(\"Hello\")\n",
        "a = 5\n",
        "print(type (a))\n",
        "b = 5.5\n",
        "print(type (b))\n",
        "c = \"Milan\"\n",
        "print(type (c))\n",
        "d = True\n",
        "print(type (d))\n",
        "e = 2j\n",
        "print(type (e))\n",
        "a = [1,[1000, 10001],False,\"hello\",2j,5,\"Milan\"]\n",
        "print(type (a))\n",
        "b = (1,2,3,4,5,6)\n",
        "print(type(b))\n",
        "dictionary = {1:\"Shreyas\", 2:\"Milan\"}\n",
        "print(type(dictionary))\n",
        "#all are types\n",
        "x = 5\n",
        "x = float(x)\n",
        "print(type(x))\n",
        "x = complex(x)\n",
        "print(type(x), x)\n",
        "z = '''elephant'''#multiple words need to be in ''' format\n",
        "print(z)\n",
        "#string is array#\n",
        "print(z[0])\n",
        "\n",
        "\n",
        "\n",
        "\n"
      ]
    },
    {
      "cell_type": "code",
      "source": [
        "print(z[0],z[1],z[2])#print space"
      ],
      "metadata": {
        "colab": {
          "base_uri": "https://localhost:8080/"
        },
        "collapsed": true,
        "id": "4z5yYHz3dOk6",
        "outputId": "b372efc8-9389-4f3a-cf87-724c8e8f839a"
      },
      "execution_count": null,
      "outputs": [
        {
          "output_type": "stream",
          "name": "stdout",
          "text": [
            "e l e\n"
          ]
        }
      ]
    },
    {
      "cell_type": "code",
      "source": [
        "z[::-1]#start:endingpoint:reverses string and goes every letter"
      ],
      "metadata": {
        "colab": {
          "base_uri": "https://localhost:8080/",
          "height": 35
        },
        "collapsed": true,
        "id": "dvaVrRXIeWm0",
        "outputId": "363665f5-7f9a-40d8-afe8-3ecac234082d"
      },
      "execution_count": null,
      "outputs": [
        {
          "output_type": "execute_result",
          "data": {
            "text/plain": [
              "'tnahpele'"
            ],
            "application/vnd.google.colaboratory.intrinsic+json": {
              "type": "string"
            }
          },
          "metadata": {},
          "execution_count": 70
        }
      ]
    },
    {
      "cell_type": "code",
      "source": [
        "z[::-2]#goes backward every two, so becomes tapl"
      ],
      "metadata": {
        "colab": {
          "base_uri": "https://localhost:8080/",
          "height": 35
        },
        "collapsed": true,
        "id": "Vh9bFDiygrIi",
        "outputId": "8dc13ade-4034-471c-a439-eb2981974f31"
      },
      "execution_count": null,
      "outputs": [
        {
          "output_type": "execute_result",
          "data": {
            "text/plain": [
              "'tapl'"
            ],
            "application/vnd.google.colaboratory.intrinsic+json": {
              "type": "string"
            }
          },
          "metadata": {},
          "execution_count": 75
        }
      ]
    },
    {
      "cell_type": "code",
      "source": [
        "z[:-1]#first to last letter excluding last, empty means 0 or starting point"
      ],
      "metadata": {
        "colab": {
          "base_uri": "https://localhost:8080/",
          "height": 35
        },
        "collapsed": true,
        "id": "VCD_sCoKhSK7",
        "outputId": "5c9b71d9-21ba-48dc-fab2-216850999081"
      },
      "execution_count": null,
      "outputs": [
        {
          "output_type": "execute_result",
          "data": {
            "text/plain": [
              "'elephan'"
            ],
            "application/vnd.google.colaboratory.intrinsic+json": {
              "type": "string"
            }
          },
          "metadata": {},
          "execution_count": 76
        }
      ]
    },
    {
      "cell_type": "code",
      "source": [
        "z[2::-2]"
      ],
      "metadata": {
        "colab": {
          "base_uri": "https://localhost:8080/",
          "height": 35
        },
        "collapsed": true,
        "id": "xlmGsSaBiHi6",
        "outputId": "10502e7e-9015-48f7-ed4d-030a273e43f0"
      },
      "execution_count": null,
      "outputs": [
        {
          "output_type": "execute_result",
          "data": {
            "text/plain": [
              "'ee'"
            ],
            "application/vnd.google.colaboratory.intrinsic+json": {
              "type": "string"
            }
          },
          "metadata": {},
          "execution_count": 78
        }
      ]
    },
    {
      "cell_type": "code",
      "source": [
        "z.upper()#temporary modification, not permanent"
      ],
      "metadata": {
        "colab": {
          "base_uri": "https://localhost:8080/",
          "height": 35
        },
        "collapsed": true,
        "id": "Lowzicz4iq0Q",
        "outputId": "614d84bc-aa5c-4378-a903-b336a66528e2"
      },
      "execution_count": null,
      "outputs": [
        {
          "output_type": "execute_result",
          "data": {
            "text/plain": [
              "'ELEPHANT'"
            ],
            "application/vnd.google.colaboratory.intrinsic+json": {
              "type": "string"
            }
          },
          "metadata": {},
          "execution_count": 83
        }
      ]
    },
    {
      "cell_type": "code",
      "source": [
        "z.capitalize()"
      ],
      "metadata": {
        "colab": {
          "base_uri": "https://localhost:8080/",
          "height": 35
        },
        "collapsed": true,
        "id": "Q9ksD5uajB2F",
        "outputId": "c372a36e-6c93-406a-dfae-41d518e0bdd8"
      },
      "execution_count": null,
      "outputs": [
        {
          "output_type": "execute_result",
          "data": {
            "text/plain": [
              "'Elephant'"
            ],
            "application/vnd.google.colaboratory.intrinsic+json": {
              "type": "string"
            }
          },
          "metadata": {},
          "execution_count": 86
        }
      ]
    },
    {
      "cell_type": "code",
      "source": [
        "string = \"Hello, homie, how are you\"\n",
        "string.split(\" ,   , \")"
      ],
      "metadata": {
        "colab": {
          "base_uri": "https://localhost:8080/"
        },
        "collapsed": true,
        "id": "hxPSPnr3jnEl",
        "outputId": "bf2ac47d-0ad4-42c5-c589-554bb8bfce43"
      },
      "execution_count": null,
      "outputs": [
        {
          "output_type": "execute_result",
          "data": {
            "text/plain": [
              "['Hello, homie, how are you']"
            ]
          },
          "metadata": {},
          "execution_count": 99
        }
      ]
    },
    {
      "cell_type": "code",
      "source": [
        "y = \"big \"#string concatination\n",
        "y+''+z"
      ],
      "metadata": {
        "colab": {
          "base_uri": "https://localhost:8080/",
          "height": 35
        },
        "collapsed": true,
        "id": "iNgeYCuck47n",
        "outputId": "be056026-8f7f-4d05-eff9-bd6265a617f2"
      },
      "execution_count": null,
      "outputs": [
        {
          "output_type": "execute_result",
          "data": {
            "text/plain": [
              "'big elephant'"
            ],
            "application/vnd.google.colaboratory.intrinsic+json": {
              "type": "string"
            }
          },
          "metadata": {},
          "execution_count": 103
        }
      ]
    },
    {
      "cell_type": "code",
      "source": [
        "print(\"He said \\\"Hi\\\"\")"
      ],
      "metadata": {
        "colab": {
          "base_uri": "https://localhost:8080/"
        },
        "collapsed": true,
        "id": "og-nIrR6lpXY",
        "outputId": "50f5e366-5166-4b49-c66f-1352b9b4cb80"
      },
      "execution_count": null,
      "outputs": [
        {
          "output_type": "stream",
          "name": "stdout",
          "text": [
            "He said \"Hi\"\n"
          ]
        }
      ]
    },
    {
      "cell_type": "code",
      "source": [
        "len(z), len(a)\n",
        "a.count(\"Milan\")#calculates mode"
      ],
      "metadata": {
        "colab": {
          "base_uri": "https://localhost:8080/"
        },
        "collapsed": true,
        "id": "qkfq8kgQmyM2",
        "outputId": "d19a869b-04c3-477a-9518-10ae1784f234"
      },
      "execution_count": null,
      "outputs": [
        {
          "output_type": "execute_result",
          "data": {
            "text/plain": [
              "1"
            ]
          },
          "metadata": {},
          "execution_count": 124
        }
      ]
    }
  ]
}